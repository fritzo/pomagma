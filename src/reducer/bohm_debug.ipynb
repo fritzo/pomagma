{
 "cells": [
  {
   "cell_type": "markdown",
   "metadata": {},
   "source": [
    "# Debugging pomagma.reducer.bohm\n",
    "\n",
    "There appears to a bug in `reducer.bohm`, exercised with `lib.num_test` and other uses of recursion."
   ]
  },
  {
   "cell_type": "code",
   "execution_count": 1,
   "metadata": {
    "collapsed": false
   },
   "outputs": [],
   "source": [
    "from pomagma.reducer import syntax, sugar, lib, bohm, church, curry\n",
    "from pomagma.reducer.engines import engine\n",
    "\n",
    "def convert(code):\n",
    "    code = sugar.as_code(code)\n",
    "    return bohm.convert(code)\n",
    "\n",
    "def app(*args):\n",
    "    args = map(convert, args)\n",
    "    result = args[0]\n",
    "    for arg in args[1:]:\n",
    "        result = bohm.app(result, arg)\n",
    "    return result\n",
    "\n",
    "def pretty(code):\n",
    "    code = sugar.as_code(code)\n",
    "    code = church.convert(code)\n",
    "    return syntax.sexpr_print(code)\n",
    "\n",
    "def print_(code):\n",
    "    print(pretty(code))"
   ]
  },
  {
   "cell_type": "markdown",
   "metadata": {},
   "source": [
    "## Example: `lib.num_test(two)`"
   ]
  },
  {
   "cell_type": "code",
   "execution_count": 2,
   "metadata": {
    "collapsed": false
   },
   "outputs": [
    {
     "name": "stdout",
     "output_type": "stream",
     "text": [
      "(FUN a (FUN b a))\n"
     ]
    }
   ],
   "source": [
    "zero = convert(lib.zero)\n",
    "print_(zero)"
   ]
  },
  {
   "cell_type": "code",
   "execution_count": 3,
   "metadata": {
    "collapsed": false
   },
   "outputs": [
    {
     "name": "stdout",
     "output_type": "stream",
     "text": [
      "(FUN a (FUN b (FUN c (c a))))\n"
     ]
    }
   ],
   "source": [
    "succ = convert(lib.succ)\n",
    "print_(succ)"
   ]
  },
  {
   "cell_type": "code",
   "execution_count": 4,
   "metadata": {
    "collapsed": false
   },
   "outputs": [
    {
     "name": "stdout",
     "output_type": "stream",
     "text": [
      "(FUN a (FUN b (b (FUN c (FUN d c)))))\n"
     ]
    }
   ],
   "source": [
    "one = convert(app(succ, zero))\n",
    "print_(one)"
   ]
  },
  {
   "cell_type": "code",
   "execution_count": 5,
   "metadata": {
    "collapsed": false
   },
   "outputs": [
    {
     "name": "stdout",
     "output_type": "stream",
     "text": [
      "(FUN a (FUN b (b (FUN c (FUN d (d (FUN e (FUN f e))))))))\n"
     ]
    }
   ],
   "source": [
    "two = convert(app(succ, one))\n",
    "print_(two)"
   ]
  },
  {
   "cell_type": "code",
   "execution_count": 6,
   "metadata": {
    "collapsed": false
   },
   "outputs": [
    {
     "name": "stdout",
     "output_type": "stream",
     "text": [
      "(g x)\n"
     ]
    }
   ],
   "source": [
    "f,g,x,y = map(syntax.NVAR, 'fgxy')\n",
    "print_(app(succ, x, f, g))"
   ]
  },
  {
   "cell_type": "code",
   "execution_count": 7,
   "metadata": {
    "collapsed": false
   },
   "outputs": [
    {
     "name": "stdout",
     "output_type": "stream",
     "text": [
      "(FUN a (UNIT (a (FUN b b) (FUN c (a a) (FUN d (FUN e (UNIT (e (FUN f f) (d d)))))))))\n"
     ]
    }
   ],
   "source": [
    "num_test = convert(lib.num_test)\n",
    "print_(num_test)"
   ]
  },
  {
   "cell_type": "markdown",
   "metadata": {},
   "source": [
    "## Example: `lib.fix` and other fixed-point combinators."
   ]
  },
  {
   "cell_type": "code",
   "execution_count": 8,
   "metadata": {
    "collapsed": false
   },
   "outputs": [
    {
     "name": "stdout",
     "output_type": "stream",
     "text": [
      "(FUN a (a (FUN b (a a) (FUN c (FUN d (d (c c d)))) a)))\n"
     ]
    }
   ],
   "source": [
    "print_(convert(lib.fix))"
   ]
  },
  {
   "cell_type": "markdown",
   "metadata": {},
   "source": [
    "Let's create a simple fixed point combinator."
   ]
  },
  {
   "cell_type": "code",
   "execution_count": 9,
   "metadata": {
    "collapsed": false,
    "scrolled": true
   },
   "outputs": [
    {
     "name": "stdout",
     "output_type": "stream",
     "text": [
      "(B (S I I) (C B (S I I)))\n"
     ]
    }
   ],
   "source": [
    "Y = sugar.as_code(lambda f: sugar.app(lambda x: sugar.app(x, x),\n",
    "                                      lambda x: sugar.app(f, sugar.app(x, x))))\n",
    "print_(Y)"
   ]
  },
  {
   "cell_type": "code",
   "execution_count": 10,
   "metadata": {
    "collapsed": false
   },
   "outputs": [
    {
     "name": "stdout",
     "output_type": "stream",
     "text": [
      "(B (S I I) (C B (S I I)) f)\n",
      "(S I I (C B (S I I) f))\n",
      "(I (C B (S I I) f) (I (C B (S I I) f)))\n",
      "(C B (S I I) f (I (C B (S I I) f)))\n",
      "(B f (S I I) (I (C B (S I I) f)))\n",
      "(f (S I I (I (C B (S I I) f))))\n",
      "(f (I (I (C B (S I I) f)) (I (I (C B (S I I) f)))))\n",
      "(f (I (C B (S I I) f) (I (I (C B (S I I) f)))))\n",
      "(f (C B (S I I) f (I (I (C B (S I I) f)))))\n",
      "(f (B f (S I I) (I (I (C B (S I I) f)))))\n",
      "(f (f (S I I (I (I (C B (S I I) f))))))\n",
      "(f (f (I (I (I (C B (S I I) f))) (I (I (I (C B (S I I) f)))))))\n",
      "(f (f (I (I (C B (S I I) f)) (I (I (I (C B (S I I) f)))))))\n",
      "(f (f (I (C B (S I I) f) (I (I (I (C B (S I I) f)))))))\n",
      "(f (f (C B (S I I) f (I (I (I (C B (S I I) f)))))))\n",
      "(f (f (B f (S I I) (I (I (I (C B (S I I) f)))))))\n",
      "(f (f (f (S I I (I (I (I (C B (S I I) f))))))))\n"
     ]
    }
   ],
   "source": [
    "for i in range(17):\n",
    "    print_(curry.reduce(syntax.APP(Y, f), i))"
   ]
  },
  {
   "cell_type": "markdown",
   "metadata": {},
   "source": [
    "...which seems to beta-reduce as expected.\n",
    "\n",
    "Next let's convert from combinatory algebra to lambda-calculus."
   ]
  },
  {
   "cell_type": "code",
   "execution_count": 11,
   "metadata": {
    "collapsed": false,
    "scrolled": false
   },
   "outputs": [
    {
     "name": "stdout",
     "output_type": "stream",
     "text": [
      "(ABS (ABS (1 0 (1 0)) (ABS (ABS (1 (0 0))))))\n",
      "(FUN a (FUN b (a b (a b)) (FUN c (FUN d (c (d d))))))\n",
      "(FUN a (f a (f a)) (FUN b (FUN c (b (c c)))))\n"
     ]
    }
   ],
   "source": [
    "Y2 = convert(Y)\n",
    "print(syntax.sexpr_print(Y2))\n",
    "print_(Y2)\n",
    "print_(bohm.app(Y2, f))"
   ]
  },
  {
   "cell_type": "code",
   "execution_count": 12,
   "metadata": {
    "collapsed": false
   },
   "outputs": [
    {
     "name": "stdout",
     "output_type": "stream",
     "text": [
      "(FUN a (f a (f a)) (FUN b (FUN c (b (c c)))))\n",
      "(f (FUN a (FUN b (a (b b)))) (f (FUN c (FUN d (c (d d))))))\n",
      "(f (FUN a (FUN b (a (b b)))) (f (FUN c (FUN d (c (d d))))))\n",
      "(f (FUN a (FUN b (a (b b)))) (f (FUN c (FUN d (c (d d))))))\n"
     ]
    }
   ],
   "source": [
    "for i in range(4):\n",
    "    print_(bohm.reduce(bohm.app(Y2, f), i))"
   ]
  },
  {
   "cell_type": "markdown",
   "metadata": {},
   "source": [
    "...which does not beta-reduce as expected.\n",
    "\n",
    "So far the bug appears to be in `bohm.convert(-)`. Let's try converting back to combinatory algebra."
   ]
  },
  {
   "cell_type": "code",
   "execution_count": 13,
   "metadata": {
    "collapsed": false
   },
   "outputs": [
    {
     "name": "stdout",
     "output_type": "stream",
     "text": [
      "(C (S S I) (C B (S I I)))\n"
     ]
    }
   ],
   "source": [
    "Y3 = curry.convert(Y2)\n",
    "print_(Y3)"
   ]
  },
  {
   "cell_type": "code",
   "execution_count": 14,
   "metadata": {
    "collapsed": false
   },
   "outputs": [
    {
     "name": "stdout",
     "output_type": "stream",
     "text": [
      "(C (S S I) (C B (S I I)) f)\n",
      "(S S I f (C B (S I I)))\n",
      "(S f (I f) (C B (S I I)))\n",
      "(f (C B (S I I)) (I f (C B (S I I))))\n",
      "(f (C B (S I I)) (f (C B (S I I))))\n",
      "(f (C B (S I I)) (f (C B (S I I))))\n",
      "(f (C B (S I I)) (f (C B (S I I))))\n"
     ]
    }
   ],
   "source": [
    "for i in range(7):\n",
    "    print_(curry.reduce(syntax.APP(Y3, f), i))"
   ]
  },
  {
   "cell_type": "markdown",
   "metadata": {},
   "source": [
    "...which again fails to beta-reduce as expected.\n",
    "\n",
    "Let's try `bohm.convert`ing simpler terms."
   ]
  },
  {
   "cell_type": "code",
   "execution_count": 15,
   "metadata": {
    "collapsed": false
   },
   "outputs": [
    {
     "name": "stdout",
     "output_type": "stream",
     "text": [
      "(ABS (0 0))\n",
      "(x x)\n",
      "(ABS (ABS (1 0 (1 0))))\n",
      "(ABS (fxx 0 (fxx 0)))\n",
      "(ABS (ABS (1 0 (1 0)) (ABS (ABS (1 (0 0))))))  # FIXME there is an extra ABS on the right\n",
      "(ABS (f 0 (f 0)) (ABS (ABS (1 (0 0)))))\n",
      "(ABS (0 0) (ABS (f (0 0))))  # This is correct.\n",
      "(f (ABS (ABS (1 (0 0)))) (f (ABS (ABS (1 (0 0))))))  # FIXME B reduction fails\n",
      "(f (ABS (ABS (1 (0 0)))) (f (ABS (ABS (1 (0 0))))))\n",
      "(f (ABS (ABS (1 (0 0)))) (f (ABS (ABS (1 (0 0))))))\n",
      "(f (ABS (ABS (1 (0 0)))) (f (ABS (ABS (1 (0 0))))))\n"
     ]
    }
   ],
   "source": [
    "def show(sexpr, steps=0, message=''):\n",
    "    code = syntax.sexpr_parse(sexpr)\n",
    "    code = bohm.reduce(code, steps)\n",
    "    sexpr = syntax.sexpr_print(code)\n",
    "    print('{}  # {}'.format(sexpr, message) if message else sexpr)\n",
    "\n",
    "show('(S I I)')\n",
    "show('(S I I x)')\n",
    "show('(B (S I I))')\n",
    "show('(B (S I I) fxx)')\n",
    "show('(B (S I I) (C B (S I I)))', message='FIXME there is an extra ABS on the right')\n",
    "show('(B (S I I) (C B (S I I)) f)')\n",
    "show('(S I I (C B (S I I) f))', message='This is correct.')\n",
    "show('(B (S I I) (C B (S I I)) f)', 1, message='FIXME B reduction fails')\n",
    "show('(B (S I I) (C B (S I I)) f)', 2)\n",
    "show('(B (S I I) (C B (S I I)) f)', 3)\n",
    "show('(B (S I I) (C B (S I I)) f)', 4)"
   ]
  },
  {
   "cell_type": "markdown",
   "metadata": {},
   "source": [
    "Now if we avoid abstracting out `f`, bohm.convert works fine:"
   ]
  },
  {
   "cell_type": "code",
   "execution_count": 16,
   "metadata": {
    "collapsed": false
   },
   "outputs": [
    {
     "name": "stdout",
     "output_type": "stream",
     "text": [
      "(S I I (B f (S I I)))\n",
      "(FUN a (a a) (FUN b (f (b b))))\n",
      "(f (FUN a (a a) (FUN b (f (b b)))))\n",
      "(f (f (FUN a (a a) (FUN b (f (b b))))))\n",
      "(f (f (f (FUN a (a a) (FUN b (f (b b)))))))\n",
      "(f (f (f (f (FUN a (a a) (FUN b (f (b b))))))))\n"
     ]
    }
   ],
   "source": [
    "Yf = sugar.as_code(sugar.app(lambda x: sugar.app(x, x),\n",
    "                             lambda x: sugar.app(f, sugar.app(x, x))))\n",
    "print_(Yf)\n",
    "for i in range(5):\n",
    "    print_(bohm.reduce(Yf, i))"
   ]
  },
  {
   "cell_type": "code",
   "execution_count": 17,
   "metadata": {
    "collapsed": false
   },
   "outputs": [
    {
     "name": "stdout",
     "output_type": "stream",
     "text": [
      "(B (S I I) (C B (S I I)) f)\n",
      "(S I I (C B (S I I) f))\n",
      "(I (C B (S I I) f) (I (C B (S I I) f)))\n",
      "(C B (S I I) f (I (C B (S I I) f)))\n",
      "(B f (S I I) (I (C B (S I I) f)))\n",
      "(f (S I I (I (C B (S I I) f))))\n"
     ]
    }
   ],
   "source": [
    "Y_f = syntax.sexpr_parse('(B (S I I) (C B (S I I)) f)')\n",
    "for i in range(6):\n",
    "    print_(curry.reduce(Y_f, i))"
   ]
  },
  {
   "cell_type": "code",
   "execution_count": null,
   "metadata": {
    "collapsed": true
   },
   "outputs": [],
   "source": []
  }
 ],
 "metadata": {
  "kernelspec": {
   "display_name": "Python 2",
   "language": "python",
   "name": "python2"
  },
  "language_info": {
   "codemirror_mode": {
    "name": "ipython",
    "version": 2
   },
   "file_extension": ".py",
   "mimetype": "text/x-python",
   "name": "python",
   "nbconvert_exporter": "python",
   "pygments_lexer": "ipython2",
   "version": "2.7.10"
  }
 },
 "nbformat": 4,
 "nbformat_minor": 2
}
