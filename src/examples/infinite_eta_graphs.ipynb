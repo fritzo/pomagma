{
 "cells": [
  {
   "cell_type": "markdown",
   "metadata": {},
   "source": [
    "# Infinite $\\eta$-contraction via rational term graphs\n",
    "\n",
    "Our goal is to compute an infinite $eta$-contraction in finite steps, by something like a fixed point or inductionless induction. Consider the term defined by $$j x y = x (j y).$$ We want to prove that $j = I$ or at least that $j I = I$."
   ]
  },
  {
   "cell_type": "code",
   "execution_count": 1,
   "metadata": {
    "collapsed": true
   },
   "outputs": [],
   "source": [
    "from pomagma.reducer.graphs import Term, graph_make, try_compute_step"
   ]
  },
  {
   "cell_type": "code",
   "execution_count": 2,
   "metadata": {
    "collapsed": true
   },
   "outputs": [],
   "source": [
    "def print_trace(graph, steps=10):\n",
    "    print(graph.pretty())\n",
    "    while True:\n",
    "        graph = try_compute_step(graph)\n",
    "        if graph is None:\n",
    "            return\n",
    "        print('-' * 40)\n",
    "        print(graph.pretty())"
   ]
  },
  {
   "cell_type": "code",
   "execution_count": 3,
   "metadata": {
    "collapsed": false
   },
   "outputs": [
    {
     "name": "stdout",
     "output_type": "stream",
     "text": [
      "0 = ABS(1)\n",
      "1 = ABS(2)\n",
      "2 = APP(3,4)\n",
      "3 = VAR(0)\n",
      "4 = APP(0,5)\n",
      "5 = VAR(1)\n"
     ]
    }
   ],
   "source": [
    "j = graph_make([\n",
    "    Term.ABS(1),\n",
    "    Term.ABS(2),\n",
    "    Term.APP(3, 4),\n",
    "    Term.VAR(0),\n",
    "    Term.APP(0, 5),\n",
    "    Term.VAR(1),\n",
    "])\n",
    "print(j.pretty())"
   ]
  },
  {
   "cell_type": "code",
   "execution_count": 4,
   "metadata": {
    "collapsed": false
   },
   "outputs": [
    {
     "name": "stdout",
     "output_type": "stream",
     "text": [
      "0 = ABS(1)\n",
      "1 = ABS(2)\n",
      "2 = APP(3,4)\n",
      "3 = VAR(0)\n",
      "4 = APP(0,5)\n",
      "5 = VAR(1)\n",
      "----------------------------------------\n",
      "0 = ABS(1)\n",
      "1 = ABS(2)\n",
      "2 = APP(3,4)\n",
      "3 = VAR(0)\n",
      "4 = VAR(1)\n"
     ]
    }
   ],
   "source": [
    "print_trace(j)"
   ]
  },
  {
   "cell_type": "code",
   "execution_count": null,
   "metadata": {
    "collapsed": true
   },
   "outputs": [],
   "source": []
  }
 ],
 "metadata": {
  "kernelspec": {
   "display_name": "Python 2",
   "language": "python",
   "name": "python2"
  },
  "language_info": {
   "codemirror_mode": {
    "name": "ipython",
    "version": 2
   },
   "file_extension": ".py",
   "mimetype": "text/x-python",
   "name": "python",
   "nbconvert_exporter": "python",
   "pygments_lexer": "ipython2",
   "version": "2.7.6"
  }
 },
 "nbformat": 4,
 "nbformat_minor": 2
}
