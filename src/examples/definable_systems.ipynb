{
 "cells": [
  {
   "cell_type": "markdown",
   "metadata": {},
   "source": [
    "# Implementing definable types as systems of equations\n",
    "\n",
    "Our goal is to make pomagma.reducer smart enough to prove that `I:UNIT`, as in\n",
    "definable_types.text (2016:08:23-25) (Q2) and\n",
    "operational_semantics.text (2017:01:20-02:05) (Q5.A2.9):\n",
    "\n",
    "<b>Desired Theorem:</b> `I : A \\a,a',f,x. a(f(a' x))`, where\n",
    "\n",
    "    copy := \\x,y. x y y.\n",
    "    join := \\x,y,z. x(y|z).\n",
    "    postconj := (\\r,s. <B r, B s>).\n",
    "    preconj := (\\r,s. <CB s, CB r>).\n",
    "    compose := (\\r,s,r',s'. <r o r', s' o s>).\n",
    "    A = A | <I, I> | <copy, join> | <div, BOT> | <BOT, TOP> | <C, C>\n",
    "          | A preconj | A postconj | A (A compose)."
   ]
  },
  {
   "cell_type": "code",
   "execution_count": 1,
   "metadata": {
    "collapsed": true
   },
   "outputs": [],
   "source": [
    "from __future__ import print_function"
   ]
  },
  {
   "cell_type": "code",
   "execution_count": 2,
   "metadata": {
    "collapsed": false
   },
   "outputs": [],
   "source": [
    "from pomagma.reducer.lib import BOT, TOP, B, C, I, pair\n",
    "from pomagma.reducer.sugar import as_term\n",
    "from pomagma.reducer.syntax import NVAR\n",
    "from pomagma.reducer.systems import System, try_beta_step"
   ]
  },
  {
   "cell_type": "code",
   "execution_count": 4,
   "metadata": {
    "collapsed": false
   },
   "outputs": [
    {
     "name": "stdout",
     "output_type": "stream",
     "text": [
      "       a = (JOIN (a postconj) (JOIN (a preconj) (JOIN (a (a compose)) (JOIN (ABS (0 c c)) (JOIN (ABS (0 copy join)) (JOIN (ABS (0 div BOT)) (ABS (0 i i))))))))\n",
      "       b = (ABS (ABS (ABS (2 (1 0)))))\n",
      "       c = (ABS (ABS (ABS (2 0 1))))\n",
      "      cb = (ABS (ABS (ABS (1 (2 0)))))\n",
      " compose = (ABS (ABS (ABS (ABS (ABS (0 (b 4 2) (b 1 3)))))))\n",
      "    copy = (ABS (ABS (1 0 0)))\n",
      "     div = (JOIN (ABS 0) (ABS (div 0 TOP)))\n",
      "       i = (ABS 0)\n",
      "    join = (ABS (ABS (ABS (2 (JOIN 0 1)))))\n",
      "postconj = (ABS (ABS (ABS (0 (b 2) (b 1)))))\n",
      " preconj = (ABS (ABS (ABS (0 (cb 1) (cb 2)))))\n"
     ]
    }
   ],
   "source": [
    "i = NVAR('i')\n",
    "b = NVAR('b')\n",
    "c = NVAR('c')\n",
    "cb = NVAR('cb')\n",
    "div = NVAR('div')\n",
    "copy = NVAR('copy')\n",
    "join = NVAR('join')\n",
    "postconj = NVAR('postconj')\n",
    "preconj = NVAR('preconj')\n",
    "compose = NVAR('compose')\n",
    "a = NVAR('a')\n",
    "\n",
    "system = System(\n",
    "    # Basic combinators.\n",
    "    i=I,\n",
    "    b=B,\n",
    "    c=C,\n",
    "    cb=C(B),\n",
    "    # Components of A.\n",
    "    div=(I | as_term(lambda x: div(x, TOP))),\n",
    "    copy=as_term(lambda x, y: x(y, y)),\n",
    "    join=as_term(lambda x, y, z: x(y | z)),\n",
    "    postconj=as_term(lambda r, s: pair(b(r), b(s))),\n",
    "    preconj=as_term(lambda r, s: pair(cb(s), cb(r))),\n",
    "    compose=as_term(lambda r1, s1, r2, s2: pair(b(r1, r2), b(s2, s1))),\n",
    "    # Definition of A.\n",
    "    a=(pair(i,i) | pair(copy, join) | pair(div, BOT) | pair(c, c) |\n",
    "       a(preconj) | a(postconj) | a(a(compose))\n",
    "    ),\n",
    ")\n",
    "print(system.pretty())"
   ]
  },
  {
   "cell_type": "code",
   "execution_count": null,
   "metadata": {
    "collapsed": true
   },
   "outputs": [],
   "source": []
  }
 ],
 "metadata": {
  "kernelspec": {
   "display_name": "Python 2",
   "language": "python",
   "name": "python2"
  },
  "language_info": {
   "codemirror_mode": {
    "name": "ipython",
    "version": 2
   },
   "file_extension": ".py",
   "mimetype": "text/x-python",
   "name": "python",
   "nbconvert_exporter": "python",
   "pygments_lexer": "ipython2",
   "version": "2.7.6"
  }
 },
 "nbformat": 4,
 "nbformat_minor": 2
}
