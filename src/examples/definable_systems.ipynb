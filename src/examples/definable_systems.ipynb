{
 "cells": [
  {
   "cell_type": "markdown",
   "metadata": {},
   "source": [
    "# Definable types as systems of equations\n",
    "\n",
    "Our goal is to make pomagma.reducer smart enough to prove that `I:UNIT`, as in\n",
    "definable_types.text (2016:08:23-25) (Q2) and\n",
    "operational_semantics.text (2017:01:20-02:05) (Q5.A2.9):\n",
    "\n",
    "<b>Desired Theorem:</b> `I : A \\a,a',f,x. a(f(a' x))`, where\n",
    "\n",
    "    copy := \\x,y. x y y.\n",
    "    join := \\x,y,z. x(y|z).\n",
    "    postconj := (\\r,s. <B r, B s>).\n",
    "    preconj := (\\r,s. <CB s, CB r>).\n",
    "    compose := (\\r,s,r',s'. <r o r', s' o s>).\n",
    "    A = A | <I, I> | <copy, join> | <div, BOT> | <BOT, TOP> | <C, C>\n",
    "          | A preconj | A postconj | A (A compose)."
   ]
  },
  {
   "cell_type": "code",
   "execution_count": 1,
   "metadata": {
    "collapsed": false
   },
   "outputs": [],
   "source": [
    "from pomagma.reducer.lib import BOT, TOP, B, C, I, pair\n",
    "from pomagma.reducer.sugar import as_term\n",
    "from pomagma.reducer.syntax import NVAR, sexpr_print\n",
    "from pomagma.reducer.systems import System, try_compute_step, try_decide_equal"
   ]
  },
  {
   "cell_type": "markdown",
   "metadata": {},
   "source": [
    "We'll start with a definition of `A` by mutual recursion."
   ]
  },
  {
   "cell_type": "code",
   "execution_count": 2,
   "metadata": {
    "collapsed": false
   },
   "outputs": [
    {
     "name": "stdout",
     "output_type": "stream",
     "text": [
      "       a = (JOIN (a preconj) (JOIN (a (a compose)) (ABS (0 i i))))\n",
      "       b = (ABS (ABS (ABS (2 (1 0)))))\n",
      "       c = (ABS (ABS (ABS (2 0 1))))\n",
      "      cb = (ABS (ABS (ABS (1 (2 0)))))\n",
      " compose = (ABS (ABS (ABS (ABS (ABS (0 (b 4 2) (b 1 3)))))))\n",
      "    copy = (ABS (ABS (1 0 0)))\n",
      "     div = (JOIN (ABS 0) (ABS (div 0 TOP)))\n",
      "       i = (ABS 0)\n",
      "    join = (ABS (ABS (ABS (2 (JOIN 0 1)))))\n",
      "postconj = (ABS (ABS (ABS (0 (b 2) (b 1)))))\n",
      " preconj = (ABS (ABS (ABS (0 (cb 1) (cb 2)))))\n"
     ]
    }
   ],
   "source": [
    "i = NVAR('i')\n",
    "b = NVAR('b')\n",
    "c = NVAR('c')\n",
    "cb = NVAR('cb')\n",
    "div = NVAR('div')\n",
    "copy = NVAR('copy')\n",
    "join = NVAR('join')\n",
    "postconj = NVAR('postconj')\n",
    "preconj = NVAR('preconj')\n",
    "compose = NVAR('compose')\n",
    "a = NVAR('a')\n",
    "\n",
    "system_a = System(\n",
    "    # Basic combinators.\n",
    "    i=I,\n",
    "    b=B,\n",
    "    c=C,\n",
    "    cb=C(B),\n",
    "    # Components of A.\n",
    "    div=(I | as_term(lambda x: div(x, TOP))),\n",
    "    copy=as_term(lambda x, y: x(y, y)),\n",
    "    join=as_term(lambda x, y, z: x(y | z)),\n",
    "    postconj=as_term(lambda r, s: pair(b(r), b(s))),\n",
    "    preconj=as_term(lambda r, s: pair(cb(s), cb(r))),\n",
    "    compose=as_term(lambda r1, s1, r2, s2: pair(b(r1, r2), b(s2, s1))),\n",
    "    # Definition of A, intended as a least fixed point.\n",
    "    # We'll comment out most parts to focus on the others.\n",
    "    a=(pair(i,i)\n",
    "       # | pair(copy, join)\n",
    "       # | pair(div, BOT)\n",
    "       # | pair(c, c)\n",
    "       | a(preconj)\n",
    "       # | a(postconj)\n",
    "       | a(a(compose))\n",
    "    ),\n",
    ")\n",
    "print(system_a.pretty())"
   ]
  },
  {
   "cell_type": "markdown",
   "metadata": {},
   "source": [
    "Next we'll extend this system to define a `UNIT` type.\n",
    "\n",
    "A safer implementation of the type constructor `Simple` would apply `V` and check the input signature (e.g. here `unit_sig`). To keep the system simple, we'll directly apply `A` to the signature."
   ]
  },
  {
   "cell_type": "code",
   "execution_count": 3,
   "metadata": {
    "collapsed": false
   },
   "outputs": [
    {
     "name": "stdout",
     "output_type": "stream",
     "text": [
      "       a = (JOIN (a preconj) (JOIN (a (a compose)) (ABS (0 i i))))\n",
      "       b = (ABS (ABS (ABS (2 (1 0)))))\n",
      "       c = (ABS (ABS (ABS (2 0 1))))\n",
      "      cb = (ABS (ABS (ABS (1 (2 0)))))\n",
      " compose = (ABS (ABS (ABS (ABS (ABS (0 (b 4 2) (b 1 3)))))))\n",
      "    copy = (ABS (ABS (1 0 0)))\n",
      "     div = (JOIN (ABS 0) (ABS (div 0 TOP)))\n",
      "       i = (ABS 0)\n",
      "    join = (ABS (ABS (ABS (2 (JOIN 0 1)))))\n",
      "postconj = (ABS (ABS (ABS (0 (b 2) (b 1)))))\n",
      " preconj = (ABS (ABS (ABS (0 (cb 1) (cb 2)))))\n",
      "unit_sig = (ABS (ABS (ABS (ABS (3 (1 (2 0)))))))\n",
      "    unit = (a unit_sig)\n"
     ]
    }
   ],
   "source": [
    "unit_sig = NVAR('unit_sig')\n",
    "unit = NVAR('unit')\n",
    "\n",
    "system_unit = system_a.extended_by(\n",
    "    unit_sig=as_term(lambda r, s, f, x: r(f(s(x)))),\n",
    "    unit=a(unit_sig),\n",
    ")\n",
    "print(system_unit.pretty())"
   ]
  },
  {
   "cell_type": "markdown",
   "metadata": {},
   "source": [
    "## Type checking\n",
    "\n",
    "Now we can try type checking"
   ]
  },
  {
   "cell_type": "code",
   "execution_count": 4,
   "metadata": {
    "collapsed": false
   },
   "outputs": [
    {
     "name": "stdout",
     "output_type": "stream",
     "text": [
      "TODO handle JOIN: JOIN(APP(APP(APP(NVAR(a), NVAR(preconj)), NVAR(unit_sig)), TOP), JOIN(APP(APP(APP(NVAR(unit_sig), NVAR(i)), NVAR(i)), TOP), APP(APP(APP(NVAR(a), APP(NVAR(a), NVAR(compose))), NVAR(unit_sig)), TOP))) vs TOP\n"
     ]
    }
   ],
   "source": [
    "try:\n",
    "    print(try_decide_equal(system_unit, TOP, unit(TOP)))\n",
    "    print(try_decide_equal(system_unit, BOT, unit(BOT)))\n",
    "    print(try_decide_equal(system_unit, i, unit(i)))\n",
    "except NotImplementedError as e:\n",
    "    print(e)"
   ]
  },
  {
   "cell_type": "markdown",
   "metadata": {},
   "source": [
    "Since the decision procedure is difficult to implement, let's instead try reducing."
   ]
  },
  {
   "cell_type": "markdown",
   "metadata": {},
   "source": [
    "## Tracing reduction sequences"
   ]
  },
  {
   "cell_type": "code",
   "execution_count": 5,
   "metadata": {
    "collapsed": true
   },
   "outputs": [],
   "source": [
    "def trace(system, name, steps=10):\n",
    "    '''Print a reduction sequence'''\n",
    "    system = system.copy()\n",
    "    print('0. {}'.format(sexpr_print(system[name])))\n",
    "    for step in xrange(steps):\n",
    "        if not try_compute_step(system, name):\n",
    "            print '[ Normalized ]'\n",
    "            return\n",
    "        print('{}. {}'.format(1 + step, sexpr_print(system[name])))\n",
    "    print('[ Not Normalized ]')"
   ]
  },
  {
   "cell_type": "code",
   "execution_count": 6,
   "metadata": {
    "collapsed": true
   },
   "outputs": [],
   "source": [
    "system_test = system_unit.extended_by(\n",
    "    unit_i=unit(i),\n",
    "    unit_bot=unit(BOT),\n",
    "    unit_top=unit(TOP),\n",
    ")"
   ]
  },
  {
   "cell_type": "code",
   "execution_count": 7,
   "metadata": {
    "collapsed": false
   },
   "outputs": [
    {
     "name": "stdout",
     "output_type": "stream",
     "text": [
      "0. (unit TOP)\n",
      "1. (a unit_sig TOP)\n",
      "2. (JOIN (a preconj unit_sig TOP) (JOIN (unit_sig i i TOP) (a (a compose) unit_sig TOP)))\n",
      "3. (JOIN (unit_sig i i TOP) (JOIN (a preconj preconj unit_sig TOP) (JOIN (preconj i i unit_sig TOP) (JOIN (a (a compose) unit_sig TOP) (a (a compose) preconj unit_sig TOP)))))\n",
      "4. (JOIN (ABS (i TOP)) (JOIN (a preconj preconj unit_sig TOP) (JOIN (preconj i i unit_sig TOP) (JOIN (a (a compose) unit_sig TOP) (a (a compose) preconj unit_sig TOP)))))\n",
      "5. TOP\n",
      "[ Normalized ]\n"
     ]
    }
   ],
   "source": [
    "trace(system_test, 'unit_top', 10)"
   ]
  },
  {
   "cell_type": "code",
   "execution_count": 8,
   "metadata": {
    "collapsed": false
   },
   "outputs": [
    {
     "name": "stdout",
     "output_type": "stream",
     "text": [
      "0. (unit BOT)\n",
      "1. (a unit_sig BOT)\n",
      "2. (JOIN (a preconj unit_sig BOT) (JOIN (unit_sig i i BOT) (a (a compose) unit_sig BOT)))\n",
      "3. (JOIN (unit_sig i i BOT) (JOIN (a preconj preconj unit_sig BOT) (JOIN (preconj i i unit_sig BOT) (JOIN (a (a compose) unit_sig BOT) (a (a compose) preconj unit_sig BOT)))))\n",
      "4. (JOIN (ABS (i BOT)) (JOIN (a preconj preconj unit_sig BOT) (JOIN (preconj i i unit_sig BOT) (JOIN (a (a compose) unit_sig BOT) (a (a compose) preconj unit_sig BOT)))))\n",
      "5. (JOIN (a preconj preconj unit_sig BOT) (JOIN (preconj i i unit_sig BOT) (JOIN (a (a compose) unit_sig BOT) (a (a compose) preconj unit_sig BOT))))\n",
      "6. (JOIN (preconj i i unit_sig BOT) (JOIN (a (a compose) unit_sig BOT) (JOIN (a preconj preconj preconj unit_sig BOT) (JOIN (preconj i i preconj unit_sig BOT) (JOIN (a (a compose) preconj unit_sig BOT) (a (a compose) preconj preconj unit_sig BOT))))))\n",
      "7. (JOIN (a (a compose) unit_sig BOT) (JOIN (unit_sig (cb i) (cb i) BOT) (JOIN (a preconj preconj preconj unit_sig BOT) (JOIN (preconj i i preconj unit_sig BOT) (JOIN (a (a compose) preconj unit_sig BOT) (a (a compose) preconj preconj unit_sig BOT))))))\n",
      "8. (JOIN (a preconj (a compose) unit_sig BOT) (JOIN (unit_sig (cb i) (cb i) BOT) (JOIN (a compose i i unit_sig BOT) (JOIN (a preconj preconj preconj unit_sig BOT) (JOIN (preconj i i preconj unit_sig BOT) (JOIN (a (a compose) (a compose) unit_sig BOT) (JOIN (a (a compose) preconj unit_sig BOT) (a (a compose) preconj preconj unit_sig BOT))))))))\n",
      "9. (JOIN (unit_sig (cb i) (cb i) BOT) (JOIN (a compose i i unit_sig BOT) (JOIN (a preconj preconj (a compose) unit_sig BOT) (JOIN (a preconj preconj preconj unit_sig BOT) (JOIN (preconj i i (a compose) unit_sig BOT) (JOIN (preconj i i preconj unit_sig BOT) (JOIN (a (a compose) (a compose) unit_sig BOT) (JOIN (a (a compose) preconj unit_sig BOT) (JOIN (a (a compose) preconj (a compose) unit_sig BOT) (a (a compose) preconj preconj unit_sig BOT))))))))))\n",
      "10. (JOIN (ABS (cb i BOT)) (JOIN (a compose i i unit_sig BOT) (JOIN (a preconj preconj (a compose) unit_sig BOT) (JOIN (a preconj preconj preconj unit_sig BOT) (JOIN (preconj i i (a compose) unit_sig BOT) (JOIN (preconj i i preconj unit_sig BOT) (JOIN (a (a compose) (a compose) unit_sig BOT) (JOIN (a (a compose) preconj unit_sig BOT) (JOIN (a (a compose) preconj (a compose) unit_sig BOT) (a (a compose) preconj preconj unit_sig BOT))))))))))\n",
      "[ Not Normalized ]\n"
     ]
    }
   ],
   "source": [
    "trace(system_test, 'unit_bot', 10)"
   ]
  },
  {
   "cell_type": "code",
   "execution_count": 9,
   "metadata": {
    "collapsed": false
   },
   "outputs": [
    {
     "name": "stdout",
     "output_type": "stream",
     "text": [
      "0. (unit i)\n",
      "1. (a unit_sig i)\n",
      "2. (JOIN (a preconj unit_sig i) (JOIN (unit_sig i i i) (a (a compose) unit_sig i)))\n",
      "3. (JOIN (unit_sig i i i) (JOIN (a preconj preconj unit_sig i) (JOIN (preconj i i unit_sig i) (JOIN (a (a compose) unit_sig i) (a (a compose) preconj unit_sig i)))))\n",
      "4. (JOIN (ABS (i (i (i 0)))) (JOIN (a preconj preconj unit_sig i) (JOIN (preconj i i unit_sig i) (JOIN (a (a compose) unit_sig i) (a (a compose) preconj unit_sig i)))))\n",
      "5. (JOIN (ABS (i (i 0))) (JOIN (a preconj preconj unit_sig i) (JOIN (preconj i i unit_sig i) (JOIN (a (a compose) unit_sig i) (a (a compose) preconj unit_sig i)))))\n",
      "6. (JOIN i (JOIN (a preconj preconj unit_sig i) (JOIN (preconj i i unit_sig i) (JOIN (a (a compose) unit_sig i) (a (a compose) preconj unit_sig i)))))\n",
      "7. (JOIN (ABS 0) (JOIN (a preconj preconj unit_sig i) (JOIN (preconj i i unit_sig i) (JOIN (a (a compose) unit_sig i) (a (a compose) preconj unit_sig i)))))\n",
      "8. (JOIN (ABS 0) (JOIN (preconj i i unit_sig i) (JOIN (a (a compose) unit_sig i) (JOIN (a preconj preconj preconj unit_sig i) (JOIN (preconj i i preconj unit_sig i) (JOIN (a (a compose) preconj unit_sig i) (a (a compose) preconj preconj unit_sig i)))))))\n",
      "9. (JOIN (ABS 0) (JOIN (a (a compose) unit_sig i) (JOIN (unit_sig (cb i) (cb i) i) (JOIN (a preconj preconj preconj unit_sig i) (JOIN (preconj i i preconj unit_sig i) (JOIN (a (a compose) preconj unit_sig i) (a (a compose) preconj preconj unit_sig i)))))))\n",
      "10. (JOIN (ABS 0) (JOIN (a preconj (a compose) unit_sig i) (JOIN (unit_sig (cb i) (cb i) i) (JOIN (a compose i i unit_sig i) (JOIN (a preconj preconj preconj unit_sig i) (JOIN (preconj i i preconj unit_sig i) (JOIN (a (a compose) (a compose) unit_sig i) (JOIN (a (a compose) preconj unit_sig i) (a (a compose) preconj preconj unit_sig i)))))))))\n",
      "[ Not Normalized ]\n"
     ]
    }
   ],
   "source": [
    "trace(system_test, 'unit_i', 10)"
   ]
  },
  {
   "cell_type": "code",
   "execution_count": null,
   "metadata": {
    "collapsed": true
   },
   "outputs": [],
   "source": []
  }
 ],
 "metadata": {
  "kernelspec": {
   "display_name": "Python 2",
   "language": "python",
   "name": "python2"
  },
  "language_info": {
   "codemirror_mode": {
    "name": "ipython",
    "version": 2
   },
   "file_extension": ".py",
   "mimetype": "text/x-python",
   "name": "python",
   "nbconvert_exporter": "python",
   "pygments_lexer": "ipython2",
   "version": "2.7.10"
  }
 },
 "nbformat": 4,
 "nbformat_minor": 2
}
