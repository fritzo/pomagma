{
 "cells": [
  {
   "cell_type": "markdown",
   "metadata": {},
   "source": [
    "# Definable types as systems of equations\n",
    "\n",
    "Our goal is to make pomagma.reducer smart enough to prove that `I:UNIT`, as in\n",
    "definable_types.text (2016:08:23-25) (Q2) and\n",
    "operational_semantics.text (2017:01:20-02:05) (Q5.A2.9):\n",
    "\n",
    "<b>Desired Theorem:</b> `I : A \\a,a',f,x. a(f(a' x))`, where\n",
    "\n",
    "    copy := \\x,y. x y y.\n",
    "    join := \\x,y,z. x(y|z).\n",
    "    postconj := (\\r,s. <B r, B s>).\n",
    "    preconj := (\\r,s. <CB s, CB r>).\n",
    "    compose := (\\r,s,r',s'. <r o r', s' o s>).\n",
    "    A = A | <I, I> | <copy, join> | <div, BOT> | <BOT, TOP> | <C, C>\n",
    "          | A preconj | A postconj | A (A compose)."
   ]
  },
  {
   "cell_type": "code",
   "execution_count": 1,
   "metadata": {
    "collapsed": false
   },
   "outputs": [],
   "source": [
    "from pomagma.reducer.lib import BOT, TOP, B, C, I, pair\n",
    "from pomagma.reducer.sugar import as_term\n",
    "from pomagma.reducer.syntax import NVAR, sexpr_print\n",
    "from pomagma.reducer.systems import System, try_compute_step, try_decide_equal"
   ]
  },
  {
   "cell_type": "markdown",
   "metadata": {},
   "source": [
    "We'll start with a definition of `A` by mutual recursion."
   ]
  },
  {
   "cell_type": "code",
   "execution_count": 2,
   "metadata": {
    "collapsed": false
   },
   "outputs": [
    {
     "name": "stdout",
     "output_type": "stream",
     "text": [
      "       a = (JOIN (a postconj) (JOIN (a preconj) (JOIN (a (a compose)) (JOIN (ABS (0 c c)) (JOIN (ABS (0 copy join)) (JOIN (ABS (0 div BOT)) (ABS (0 i i))))))))\n",
      "       b = (ABS (ABS (ABS (2 (1 0)))))\n",
      "       c = (ABS (ABS (ABS (2 0 1))))\n",
      "      cb = (ABS (ABS (ABS (1 (2 0)))))\n",
      " compose = (ABS (ABS (ABS (ABS (ABS (0 (b 4 2) (b 1 3)))))))\n",
      "    copy = (ABS (ABS (1 0 0)))\n",
      "     div = (JOIN (ABS 0) (ABS (div 0 TOP)))\n",
      "       i = (ABS 0)\n",
      "    join = (ABS (ABS (ABS (2 (JOIN 0 1)))))\n",
      "postconj = (ABS (ABS (ABS (0 (b 2) (b 1)))))\n",
      " preconj = (ABS (ABS (ABS (0 (cb 1) (cb 2)))))\n"
     ]
    }
   ],
   "source": [
    "i = NVAR('i')\n",
    "b = NVAR('b')\n",
    "c = NVAR('c')\n",
    "cb = NVAR('cb')\n",
    "div = NVAR('div')\n",
    "copy = NVAR('copy')\n",
    "join = NVAR('join')\n",
    "postconj = NVAR('postconj')\n",
    "preconj = NVAR('preconj')\n",
    "compose = NVAR('compose')\n",
    "a = NVAR('a')\n",
    "\n",
    "system_a = System(\n",
    "    # Basic combinators.\n",
    "    i=I,\n",
    "    b=B,\n",
    "    c=C,\n",
    "    cb=C(B),\n",
    "    # Components of A.\n",
    "    div=(I | as_term(lambda x: div(x, TOP))),\n",
    "    copy=as_term(lambda x, y: x(y, y)),\n",
    "    join=as_term(lambda x, y, z: x(y | z)),\n",
    "    postconj=as_term(lambda r, s: pair(b(r), b(s))),\n",
    "    preconj=as_term(lambda r, s: pair(cb(s), cb(r))),\n",
    "    compose=as_term(lambda r1, s1, r2, s2: pair(b(r1, r2), b(s2, s1))),\n",
    "    # Definition of A, intended as a least fixed point.\n",
    "    a=(pair(i,i) | pair(copy, join) | pair(div, BOT) | pair(c, c) |\n",
    "       a(preconj) | a(postconj) | a(a(compose))\n",
    "    ),\n",
    ")\n",
    "print(system_a.pretty())"
   ]
  },
  {
   "cell_type": "markdown",
   "metadata": {},
   "source": [
    "Next we'll extend this system to define a `UNIT` type.\n",
    "\n",
    "A safer implementation of the type constructor `Simple` would apply `V` and check the input signature (e.g. here `unit_sig`). To keep the system simple, we'll directly apply `A` to the signature."
   ]
  },
  {
   "cell_type": "code",
   "execution_count": 3,
   "metadata": {
    "collapsed": false
   },
   "outputs": [],
   "source": [
    "unit_sig = NVAR('unit_sig')\n",
    "unit = NVAR('unit')\n",
    "\n",
    "system_unit = system_a.extended_by(\n",
    "    unit_sig=as_term(lambda r, s, f, x: r(f(s(x)))),\n",
    "    unit=a(unit_sig),\n",
    ")"
   ]
  },
  {
   "cell_type": "markdown",
   "metadata": {},
   "source": [
    "Now we can try type checking"
   ]
  },
  {
   "cell_type": "code",
   "execution_count": 4,
   "metadata": {
    "collapsed": false
   },
   "outputs": [
    {
     "name": "stdout",
     "output_type": "stream",
     "text": [
      "TODO handle JOIN: IVAR(0) vs JOIN(APP(APP(APP(APP(NVAR(a), NVAR(postconj)), NVAR(unit_sig)), NVAR(i)), IVAR(0)), JOIN(APP(APP(APP(APP(NVAR(a), NVAR(preconj)), NVAR(unit_sig)), NVAR(i)), IVAR(0)), JOIN(APP(APP(APP(APP(NVAR(unit_sig), NVAR(c)), NVAR(c)), NVAR(i)), IVAR(0)), JOIN(APP(APP(APP(APP(NVAR(unit_sig), NVAR(copy)), NVAR(join)), NVAR(i)), IVAR(0)), JOIN(APP(APP(APP(APP(NVAR(unit_sig), NVAR(div)), BOT), NVAR(i)), IVAR(0)), JOIN(APP(APP(APP(APP(NVAR(unit_sig), NVAR(i)), NVAR(i)), NVAR(i)), IVAR(0)), APP(APP(APP(APP(NVAR(a), APP(NVAR(a), NVAR(compose))), NVAR(unit_sig)), NVAR(i)), IVAR(0))))))))\n"
     ]
    }
   ],
   "source": [
    "try:\n",
    "    print(try_decide_equal(system_unit, i, unit(i)))\n",
    "except NotImplementedError as e:\n",
    "    print(e)"
   ]
  },
  {
   "cell_type": "markdown",
   "metadata": {},
   "source": [
    "Since the decision procedure is difficult to implement, let's instead try reducing."
   ]
  },
  {
   "cell_type": "code",
   "execution_count": 5,
   "metadata": {
    "collapsed": true
   },
   "outputs": [],
   "source": [
    "def trace(system, name, steps=10):\n",
    "    '''Print a reduction sequence'''\n",
    "    system = system.copy()\n",
    "    print(system.pretty())\n",
    "    print('---- {} ----'.format(name))\n",
    "    for step in xrange(steps):\n",
    "        if not try_compute_step(system, name):\n",
    "            print '[ Normalized ]'\n",
    "            return\n",
    "        print('{}: {}'.format(1 + step, sexpr_print(system[name])))\n",
    "    print('[ Not Normalized ]')"
   ]
  },
  {
   "cell_type": "code",
   "execution_count": 6,
   "metadata": {
    "collapsed": true
   },
   "outputs": [],
   "source": [
    "system_i = system_unit.extended_by(unit_i=unit(i))"
   ]
  },
  {
   "cell_type": "code",
   "execution_count": 9,
   "metadata": {
    "collapsed": false
   },
   "outputs": [],
   "source": [
    "# This grows really quickly, and fails `py.test --nbval`.\n",
    "if 0:\n",
    "    trace(system_i, 'unit_i', 4)"
   ]
  },
  {
   "cell_type": "code",
   "execution_count": null,
   "metadata": {
    "collapsed": true
   },
   "outputs": [],
   "source": []
  }
 ],
 "metadata": {
  "kernelspec": {
   "display_name": "Python 2",
   "language": "python",
   "name": "python2"
  },
  "language_info": {
   "codemirror_mode": {
    "name": "ipython",
    "version": 2
   },
   "file_extension": ".py",
   "mimetype": "text/x-python",
   "name": "python",
   "nbconvert_exporter": "python",
   "pygments_lexer": "ipython2",
   "version": "2.7.10"
  }
 },
 "nbformat": 4,
 "nbformat_minor": 2
}
