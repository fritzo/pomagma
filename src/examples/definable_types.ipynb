{
 "cells": [
  {
   "cell_type": "code",
   "execution_count": 1,
   "metadata": {
    "collapsed": false
   },
   "outputs": [],
   "source": [
    "from pomagma.reducer import lib\n",
    "from pomagma.reducer.sugar import as_code\n",
    "from pomagma.reducer.__main__ import step\n",
    "from pomagma.reducer.bohm import print_tiny, try_compute_step\n",
    "from pomagma.reducer.bohm import sexpr_simplify as parse\n",
    "from pomagma.reducer.syntax import sexpr_print"
   ]
  },
  {
   "cell_type": "code",
   "execution_count": 2,
   "metadata": {
    "collapsed": true
   },
   "outputs": [],
   "source": [
    "from pomagma.reducer.bohm import app, abstract, join\n",
    "from pomagma.reducer.syntax import TOP, BOT, IVAR, NVAR, ABS, APP, JOIN"
   ]
  },
  {
   "cell_type": "code",
   "execution_count": 3,
   "metadata": {
    "collapsed": true
   },
   "outputs": [],
   "source": [
    "def apps(*args):\n",
    "    result = args[0]\n",
    "    for arg in args[1:]:\n",
    "        result = app(result, arg)\n",
    "    return result"
   ]
  },
  {
   "cell_type": "code",
   "execution_count": 4,
   "metadata": {
    "collapsed": true
   },
   "outputs": [],
   "source": [
    "def convert(code):\n",
    "    \"\"\"Convert from combinator to bohm tree.\"\"\"\n",
    "    code = as_code(code)\n",
    "    code = parse(sexpr_print(code))\n",
    "    return code"
   ]
  },
  {
   "cell_type": "code",
   "execution_count": 5,
   "metadata": {
    "collapsed": false
   },
   "outputs": [],
   "source": [
    "v0, v1, v2, v3 = map(IVAR, range(4))\n",
    "f, r, s, x, y, z = map(NVAR, 'frsxyz')"
   ]
  },
  {
   "cell_type": "code",
   "execution_count": 6,
   "metadata": {
    "collapsed": false
   },
   "outputs": [
    {
     "name": "stdout",
     "output_type": "stream",
     "text": [
      "(ABS (0 (ABS (0 0) (ABS (1 (0 0))))))\n",
      "^(0(^(00)^(1(00))))\n"
     ]
    }
   ],
   "source": [
    "Y = parse('(ABS (ABS (1 (0 0)) (ABS (1 (0 0)))))')\n",
    "print sexpr_print(Y)\n",
    "print print_tiny(Y)"
   ]
  },
  {
   "cell_type": "markdown",
   "metadata": {},
   "source": [
    "Let's use the definition of `V` from Scott76\n",
    "\n",
    "    V = (λa, x. Y λy. x | a y)"
   ]
  },
  {
   "cell_type": "code",
   "execution_count": 7,
   "metadata": {
    "collapsed": false
   },
   "outputs": [
    {
     "name": "stdout",
     "output_type": "stream",
     "text": [
      "(JOIN (ABS (ABS (1 (ABS (0 0) (JOIN (ABS 1) (ABS (2 (0 0)))))))) (ABS (ABS 0)))\n",
      "[^^(1(^(00)[^1|^(2(00))]))|^^0]\n"
     ]
    }
   ],
   "source": [
    "V = abstract(abstract(app(Y, abstract(join(v1, app(v2, v0))))))\n",
    "print sexpr_print(V)\n",
    "print print_tiny(V)"
   ]
  },
  {
   "cell_type": "markdown",
   "metadata": {},
   "source": [
    "Now let's define a weak partial version of `A` and the unit type signature."
   ]
  },
  {
   "cell_type": "code",
   "execution_count": 8,
   "metadata": {
    "collapsed": false
   },
   "outputs": [],
   "source": [
    "unit_sig = ABS(ABS(ABS(ABS(APP(v3, APP(v1, APP(v2, v0)))))))\n",
    "assert apps(unit_sig, r, s, f, x) == APP(r, APP(f, APP(s, x)))"
   ]
  },
  {
   "cell_type": "code",
   "execution_count": 9,
   "metadata": {
    "collapsed": false
   },
   "outputs": [],
   "source": [
    "pair = ABS(ABS(ABS(APP(APP(v0, v2), v1))))\n",
    "assert apps(pair, x, y, f) == APP(APP(f, x), y)"
   ]
  },
  {
   "cell_type": "code",
   "execution_count": 10,
   "metadata": {
    "collapsed": true
   },
   "outputs": [],
   "source": [
    "I = ABS(IVAR(0))"
   ]
  },
  {
   "cell_type": "code",
   "execution_count": 11,
   "metadata": {
    "collapsed": true
   },
   "outputs": [],
   "source": [
    "B = ABS(ABS(ABS(APP(v2, APP(v1, v0)))))\n",
    "assert apps(B, x, y, z) == APP(x, APP(y, z))"
   ]
  },
  {
   "cell_type": "code",
   "execution_count": 12,
   "metadata": {
    "collapsed": true
   },
   "outputs": [],
   "source": [
    "C = ABS(ABS(ABS(APP(APP(v2, v0), v1))))\n",
    "assert apps(C, x, y, z) == APP(APP(x, z), y)\n",
    "CB = app(C, B)"
   ]
  },
  {
   "cell_type": "code",
   "execution_count": 13,
   "metadata": {
    "collapsed": true
   },
   "outputs": [],
   "source": [
    "a_base = apps(pair, I, I)"
   ]
  },
  {
   "cell_type": "code",
   "execution_count": 14,
   "metadata": {
    "collapsed": false
   },
   "outputs": [],
   "source": [
    "a_preconj = convert(lib.a_preconj)\n",
    "a_postconj = convert(lib.a_postconj)\n",
    "a_compose = convert(lib.a_compose)"
   ]
  },
  {
   "cell_type": "code",
   "execution_count": 15,
   "metadata": {
    "collapsed": false
   },
   "outputs": [],
   "source": [
    "A_pre = app(Y, abstract(join(a_base, app(a_preconj, v0))))\n",
    "A_post = app(Y, abstract(join(a_base, app(a_postconj, v0))))"
   ]
  },
  {
   "cell_type": "code",
   "execution_count": 16,
   "metadata": {
    "collapsed": false
   },
   "outputs": [
    {
     "name": "stdout",
     "output_type": "stream",
     "text": [
      "[(^(00)[^^(0^0^0)|^(00^^^(0^^(4(10))^^(3(10))))]^^^(0^^(4(10))^^(3(10)))^^^^(3(1(20))))|^0]\n",
      "[(^(00)[^^(0^0^0)|^(00^^^(0^^(1(30))^^(1(40))))]^^^(0^^(1(30))^^(1(40)))^^^^(3(1(20))))|^0]\n"
     ]
    }
   ],
   "source": [
    "unit_pre = app(A_pre, unit_sig)\n",
    "unit_post = app(A_post, unit_sig)\n",
    "print print_tiny(unit_pre)\n",
    "print print_tiny(unit_post)"
   ]
  },
  {
   "cell_type": "code",
   "execution_count": 17,
   "metadata": {
    "collapsed": false
   },
   "outputs": [
    {
     "name": "stdout",
     "output_type": "stream",
     "text": [
      "Format: tiny\n",
      "[(^(00)[^^(0^0^0)|^(00^^^(0^^(4(10))^^(3(10))))]^^^(0^^(4(10))^^(3(10)))^0)|^0]\n",
      "[(^(00)[^^(0^0^0)|^(00^^^(0^^(4(10))^^(3(10))))]^^^(0^^(4(10))^^(3(10)))^^^(0^^(4(10))^^(3(10)))^0)|^0]\n",
      "[(^(00)[^^(0^0^0)|^(00^^^(0^^(4(10))^^(3(10))))]^^^(0^^(4(10))^^(3(10)))^^^(0^^(4(10))^^(3(10)))^^^(0^^(4(10))^^(3(10)))^0)|^0]\n",
      "[(^(00)[^^(0^0^0)|^(00^^^(0^^(4(10))^^(3(10))))]^^^(0^^(4(10))^^(3(10)))^^^(0^^(4(10))^^(3(10)))^^^(0^^(4(10))^^(3(10)))^^^(0^^(4(10))^^(3(10)))^0)|^0]\n",
      "[(^(00)[^^(0^0^0)|^(00^^^(0^^(4(10))^^(3(10))))]^^^(0^^(4(10))^^(3(10)))^^^(0^^(4(10))^^(3(10)))^^^(0^^(4(10))^^(3(10)))^^^(0^^(4(10))^^(3(10)))^^^(0^^(4(10))^^(3(10)))^0)|^0]\n",
      "[(^(00)[^^(0^0^0)|^(00^^^(0^^(4(10))^^(3(10))))]^^^(0^^(4(10))^^(3(10)))^^^(0^^(4(10))^^(3(10)))^^^(0^^(4(10))^^(3(10)))^^^(0^^(4(10))^^(3(10)))^^^(0^^(4(10))^^(3(10)))^^^(0^^(4(10))^^(3(10)))^0)|^0]\n",
      "[(^(00)[^^(0^0^0)|^(00^^^(0^^(4(10))^^(3(10))))]^^^(0^^(4(10))^^(3(10)))^^^(0^^(4(10))^^(3(10)))^^^(0^^(4(10))^^(3(10)))^^^(0^^(4(10))^^(3(10)))^^^(0^^(4(10))^^(3(10)))^^^(0^^(4(10))^^(3(10)))^^^(0^^(4(10))^^(3(10)))^0)|^0]\n",
      "[(^(00)[^^(0^0^0)|^(00^^^(0^^(4(10))^^(3(10))))]^^^(0^^(4(10))^^(3(10)))^^^(0^^(4(10))^^(3(10)))^^^(0^^(4(10))^^(3(10)))^^^(0^^(4(10))^^(3(10)))^^^(0^^(4(10))^^(3(10)))^^^(0^^(4(10))^^(3(10)))^^^(0^^(4(10))^^(3(10)))^^^(0^^(4(10))^^(3(10)))^0)|^0]\n",
      "[(^(00)[^^(0^0^0)|^(00^^^(0^^(4(10))^^(3(10))))]^^^(0^^(4(10))^^(3(10)))^^^(0^^(4(10))^^(3(10)))^^^(0^^(4(10))^^(3(10)))^^^(0^^(4(10))^^(3(10)))^^^(0^^(4(10))^^(3(10)))^^^(0^^(4(10))^^(3(10)))^^^(0^^(4(10))^^(3(10)))^^^(0^^(4(10))^^(3(10)))^^^(0^^(4(10))^^(3(10)))^0)|^0]\n",
      "[(^(00)[^^(0^0^0)|^(00^^^(0^^(4(10))^^(3(10))))]^^^(0^^(4(10))^^(3(10)))^^^(0^^(4(10))^^(3(10)))^^^(0^^(4(10))^^(3(10)))^^^(0^^(4(10))^^(3(10)))^^^(0^^(4(10))^^(3(10)))^^^(0^^(4(10))^^(3(10)))^^^(0^^(4(10))^^(3(10)))^^^(0^^(4(10))^^(3(10)))^^^(0^^(4(10))^^(3(10)))^^^(0^^(4(10))^^(3(10)))^0)|^0]\n",
      "[(^(00)[^^(0^0^0)|^(00^^^(0^^(4(10))^^(3(10))))]^^^(0^^(4(10))^^(3(10)))^^^(0^^(4(10))^^(3(10)))^^^(0^^(4(10))^^(3(10)))^^^(0^^(4(10))^^(3(10)))^^^(0^^(4(10))^^(3(10)))^^^(0^^(4(10))^^(3(10)))^^^(0^^(4(10))^^(3(10)))^^^(0^^(4(10))^^(3(10)))^^^(0^^(4(10))^^(3(10)))^^^(0^^(4(10))^^(3(10)))^^^(0^^(4(10))^^(3(10)))^0)|^0]\n"
     ]
    }
   ],
   "source": [
    "step(sexpr_print(app(A_pre, I)), fmt='tiny')"
   ]
  },
  {
   "cell_type": "code",
   "execution_count": 18,
   "metadata": {
    "collapsed": false
   },
   "outputs": [
    {
     "name": "stdout",
     "output_type": "stream",
     "text": [
      "Format: tiny\n",
      "[(^(00)[^^(0^0^0)|^(00^^^(0^^(1(30))^^(1(40))))]^^^(0^^(1(30))^^(1(40)))^0)|^0]\n",
      "[(^(00)[^^(0^0^0)|^(00^^^(0^^(1(30))^^(1(40))))]^^^(0^^(1(30))^^(1(40)))^^^(0^^(1(30))^^(1(40)))^0)|^0]\n",
      "[(^(00)[^^(0^0^0)|^(00^^^(0^^(1(30))^^(1(40))))]^^^(0^^(1(30))^^(1(40)))^^^(0^^(1(30))^^(1(40)))^^^(0^^(1(30))^^(1(40)))^0)|^0]\n",
      "[(^(00)[^^(0^0^0)|^(00^^^(0^^(1(30))^^(1(40))))]^^^(0^^(1(30))^^(1(40)))^^^(0^^(1(30))^^(1(40)))^^^(0^^(1(30))^^(1(40)))^^^(0^^(1(30))^^(1(40)))^0)|^0]\n",
      "[(^(00)[^^(0^0^0)|^(00^^^(0^^(1(30))^^(1(40))))]^^^(0^^(1(30))^^(1(40)))^^^(0^^(1(30))^^(1(40)))^^^(0^^(1(30))^^(1(40)))^^^(0^^(1(30))^^(1(40)))^^^(0^^(1(30))^^(1(40)))^0)|^0]\n",
      "[(^(00)[^^(0^0^0)|^(00^^^(0^^(1(30))^^(1(40))))]^^^(0^^(1(30))^^(1(40)))^^^(0^^(1(30))^^(1(40)))^^^(0^^(1(30))^^(1(40)))^^^(0^^(1(30))^^(1(40)))^^^(0^^(1(30))^^(1(40)))^^^(0^^(1(30))^^(1(40)))^0)|^0]\n",
      "[(^(00)[^^(0^0^0)|^(00^^^(0^^(1(30))^^(1(40))))]^^^(0^^(1(30))^^(1(40)))^^^(0^^(1(30))^^(1(40)))^^^(0^^(1(30))^^(1(40)))^^^(0^^(1(30))^^(1(40)))^^^(0^^(1(30))^^(1(40)))^^^(0^^(1(30))^^(1(40)))^^^(0^^(1(30))^^(1(40)))^0)|^0]\n",
      "[(^(00)[^^(0^0^0)|^(00^^^(0^^(1(30))^^(1(40))))]^^^(0^^(1(30))^^(1(40)))^^^(0^^(1(30))^^(1(40)))^^^(0^^(1(30))^^(1(40)))^^^(0^^(1(30))^^(1(40)))^^^(0^^(1(30))^^(1(40)))^^^(0^^(1(30))^^(1(40)))^^^(0^^(1(30))^^(1(40)))^^^(0^^(1(30))^^(1(40)))^0)|^0]\n",
      "[(^(00)[^^(0^0^0)|^(00^^^(0^^(1(30))^^(1(40))))]^^^(0^^(1(30))^^(1(40)))^^^(0^^(1(30))^^(1(40)))^^^(0^^(1(30))^^(1(40)))^^^(0^^(1(30))^^(1(40)))^^^(0^^(1(30))^^(1(40)))^^^(0^^(1(30))^^(1(40)))^^^(0^^(1(30))^^(1(40)))^^^(0^^(1(30))^^(1(40)))^^^(0^^(1(30))^^(1(40)))^0)|^0]\n",
      "[(^(00)[^^(0^0^0)|^(00^^^(0^^(1(30))^^(1(40))))]^^^(0^^(1(30))^^(1(40)))^^^(0^^(1(30))^^(1(40)))^^^(0^^(1(30))^^(1(40)))^^^(0^^(1(30))^^(1(40)))^^^(0^^(1(30))^^(1(40)))^^^(0^^(1(30))^^(1(40)))^^^(0^^(1(30))^^(1(40)))^^^(0^^(1(30))^^(1(40)))^^^(0^^(1(30))^^(1(40)))^^^(0^^(1(30))^^(1(40)))^0)|^0]\n",
      "[(^(00)[^^(0^0^0)|^(00^^^(0^^(1(30))^^(1(40))))]^^^(0^^(1(30))^^(1(40)))^^^(0^^(1(30))^^(1(40)))^^^(0^^(1(30))^^(1(40)))^^^(0^^(1(30))^^(1(40)))^^^(0^^(1(30))^^(1(40)))^^^(0^^(1(30))^^(1(40)))^^^(0^^(1(30))^^(1(40)))^^^(0^^(1(30))^^(1(40)))^^^(0^^(1(30))^^(1(40)))^^^(0^^(1(30))^^(1(40)))^^^(0^^(1(30))^^(1(40)))^0)|^0]\n"
     ]
    }
   ],
   "source": [
    "step(sexpr_print(app(A_post, I)), fmt='tiny')"
   ]
  },
  {
   "cell_type": "code",
   "execution_count": null,
   "metadata": {
    "collapsed": true
   },
   "outputs": [],
   "source": []
  }
 ],
 "metadata": {
  "celltoolbar": "Raw Cell Format",
  "kernelspec": {
   "display_name": "Python 2",
   "language": "python",
   "name": "python2"
  },
  "language_info": {
   "codemirror_mode": {
    "name": "ipython",
    "version": 2
   },
   "file_extension": ".py",
   "mimetype": "text/x-python",
   "name": "python",
   "nbconvert_exporter": "python",
   "pygments_lexer": "ipython2",
   "version": "2.7.6"
  }
 },
 "nbformat": 4,
 "nbformat_minor": 2
}
