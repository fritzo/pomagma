{
 "cells": [
  {
   "cell_type": "markdown",
   "metadata": {},
   "source": [
    "# Reduction traces of definable types\n",
    "\n",
    "Our goal is to make pomagma.reducer smart enough to prove that I:UNIT,\n",
    "as in definable_types.text (2016:08:23-25) (Q2):\n",
    "\n",
    "<b>Desired Theorem:</b> `I : A \\a,a',f,x. a(f(a' x))`, where\n",
    "\n",
    "    copy := \\x,y. x y y.\n",
    "    join := \\x,y,z. x(y|z).\n",
    "    postconj := (\\f. f \\r,s. <B r, B s>).\n",
    "    preconj := (\\f. f \\r,s. <CB s, CB r>).\n",
    "    compose := (\\f,f'. f\\r,s. f'\\r',s'. <r o r', s' o s>).\n",
    "    A = A | <I, I> | <copy, join> | <div, BOT> | <BOT, TOP> | <C, C>\n",
    "          | preconj A | postconj A | compose A A."
   ]
  },
  {
   "cell_type": "code",
   "execution_count": 1,
   "metadata": {
    "collapsed": false
   },
   "outputs": [],
   "source": [
    "from pomagma.reducer import church\n",
    "from pomagma.reducer.bohm import sexpr_simplify, try_compute_step\n",
    "from pomagma.reducer.lib import BOT, TOP, B, C, I, box, pair\n",
    "from pomagma.reducer.sugar import app, as_term, join_, rec\n",
    "from pomagma.reducer.syntax import NVAR, sexpr_print\n",
    "\n",
    "parse = sexpr_simplify\n",
    "\n",
    "\n",
    "def pretty(term):\n",
    "    if False:\n",
    "        term = church.convert(term)\n",
    "    return sexpr_print(term)"
   ]
  },
  {
   "cell_type": "code",
   "execution_count": 2,
   "metadata": {
    "collapsed": true
   },
   "outputs": [],
   "source": [
    "def trace(term, steps=10):\n",
    "    '''Print a reduction sequence'''\n",
    "    print('0 {}'.format(pretty(term)))\n",
    "    for step in range(steps):\n",
    "        term = try_compute_step(term)\n",
    "        if term is None:\n",
    "            print('[ Normalized ]')\n",
    "            return\n",
    "        print('{} {}'.format(1 + step, pretty(term)))\n",
    "    print('[ Not Normalized ]')"
   ]
  },
  {
   "cell_type": "code",
   "execution_count": 3,
   "metadata": {
    "collapsed": false
   },
   "outputs": [],
   "source": [
    "CB = app(C, B)\n",
    "div = rec(lambda a: join_(I, lambda x: app(a, x, TOP)))\n",
    "copy = as_term(lambda x, y: app(x, y, y))\n",
    "join = as_term(lambda x, y, z: app(x, join_(y, z)))\n",
    "postconj = box(lambda r, s: pair(app(B, r), app(B, s)))\n",
    "preconj = box(lambda r, s: pair(app(CB, s), app(CB, r)))\n",
    "compose = as_term(\n",
    "    lambda f1, f2: app(\n",
    "        f1, lambda r1, s1: app(f2, lambda r2, s2: pair(app(B, r1, r2), app(B, s2, s1)))\n",
    "    )\n",
    ")\n",
    "\n",
    "x, y, z = map(NVAR, \"xyz\")"
   ]
  },
  {
   "cell_type": "markdown",
   "metadata": {},
   "source": [
    "Now we'll define the parts of `A`:\n",
    "```\n",
    "A = A | <I, I> | <copy, join> | <div, BOT> | <BOT, TOP> | <C, C>\n",
    "      | preconj A | postconj A | compose A A.\n",
    "```"
   ]
  },
  {
   "cell_type": "code",
   "execution_count": 4,
   "metadata": {
    "collapsed": true
   },
   "outputs": [],
   "source": [
    "PARTS = {\n",
    "    \"base\": as_term(lambda a: pair(I, I)),\n",
    "    \"copy\": as_term(lambda a: pair(copy, join)),\n",
    "    \"div\": as_term(lambda a: pair(div, BOT)),\n",
    "    \"bot\": as_term(lambda a: pair(BOT, TOP)),\n",
    "    \"swap\": as_term(lambda a: pair(C, C)),\n",
    "    \"preconj\": preconj,\n",
    "    \"postconj\": postconj,\n",
    "    \"compose\": as_term(lambda a: app(compose, a, a)),\n",
    "}"
   ]
  },
  {
   "cell_type": "code",
   "execution_count": 5,
   "metadata": {
    "collapsed": true
   },
   "outputs": [],
   "source": [
    "def build_A(part_names):\n",
    "    return rec(join_(*(PARTS[name] for name in part_names)))"
   ]
  },
  {
   "cell_type": "code",
   "execution_count": 6,
   "metadata": {
    "collapsed": false
   },
   "outputs": [],
   "source": [
    "default_type = parse(\"(FUN r (FUN s (FUN f (FUN x (r (f (s x)))))))\")\n",
    "default_inhab = parse(\"(FUN x x)\")\n",
    "\n",
    "\n",
    "def trace_A(part_names, steps=10, type_=default_type, inhab=default_inhab):\n",
    "    # Cast a candidate inhabitant via a defined type.\n",
    "    A = build_A(part_names)\n",
    "    print(\"A = {}\".format(pretty(A)))\n",
    "    term = app(A, type_, inhab)\n",
    "    trace(term, steps=steps)"
   ]
  },
  {
   "cell_type": "code",
   "execution_count": 7,
   "metadata": {
    "collapsed": false
   },
   "outputs": [
    {
     "name": "stdout",
     "output_type": "stream",
     "text": [
      "A = (ABS (0 0) (ABS (0 0 (ABS (ABS (ABS (0 (ABS (ABS (1 (3 0)))) (ABS (ABS (1 (4 0)))))))))) (ABS (ABS (ABS (0 (ABS (ABS (1 (3 0)))) (ABS (ABS (1 (4 0)))))))))\n",
      "0 (ABS (0 0) (ABS (0 0 (ABS (ABS (ABS (0 (ABS (ABS (1 (3 0)))) (ABS (ABS (1 (4 0)))))))))) (ABS (ABS (ABS (0 (ABS (ABS (1 (3 0)))) (ABS (ABS (1 (4 0)))))))) (ABS (ABS (ABS (ABS (3 (1 (2 0))))))) (ABS 0))\n",
      "1 (ABS (0 0) (ABS (0 0 (ABS (ABS (ABS (0 (ABS (ABS (1 (3 0)))) (ABS (ABS (1 (4 0)))))))))) (ABS (ABS (ABS (0 (ABS (ABS (1 (3 0)))) (ABS (ABS (1 (4 0)))))))) (ABS (ABS (ABS (0 (ABS (ABS (1 (3 0)))) (ABS (ABS (1 (4 0)))))))) (ABS (ABS (ABS (ABS (3 (1 (2 0))))))) (ABS 0))\n",
      "2 (ABS (0 0) (ABS (0 0 (ABS (ABS (ABS (0 (ABS (ABS (1 (3 0)))) (ABS (ABS (1 (4 0)))))))))) (ABS (ABS (ABS (0 (ABS (ABS (1 (3 0)))) (ABS (ABS (1 (4 0)))))))) (ABS (ABS (ABS (0 (ABS (ABS (1 (3 0)))) (ABS (ABS (1 (4 0)))))))) (ABS (ABS (ABS (0 (ABS (ABS (1 (3 0)))) (ABS (ABS (1 (4 0)))))))) (ABS (ABS (ABS (ABS (3 (1 (2 0))))))) (ABS 0))\n",
      "[ Not Normalized ]\n"
     ]
    }
   ],
   "source": [
    "trace_A([\"preconj\"], 2)"
   ]
  },
  {
   "cell_type": "markdown",
   "metadata": {
    "collapsed": true
   },
   "source": [
    "Yuck, this is too difficult to read. We need better pretty printing tools."
   ]
  }
 ],
 "metadata": {
  "celltoolbar": "Raw Cell Format",
  "kernelspec": {
   "display_name": ".venv",
   "language": "python",
   "name": "python3"
  },
  "language_info": {
   "codemirror_mode": {
    "name": "ipython",
    "version": 3
   },
   "file_extension": ".py",
   "mimetype": "text/x-python",
   "name": "python",
   "nbconvert_exporter": "python",
   "pygments_lexer": "ipython3",
   "version": "3.12.10"
  }
 },
 "nbformat": 4,
 "nbformat_minor": 2
}
