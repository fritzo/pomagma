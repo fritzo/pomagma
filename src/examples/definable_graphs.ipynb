{
 "cells": [
  {
   "cell_type": "markdown",
   "metadata": {},
   "source": [
    "# Definable types and rational term graphs\n",
    "\n",
    "Our goal is to make `pomagma.reducer` smart enough to prove that `I:UNIT`, as in\n",
    "`definable_types.text (2016:08:23-25) (Q2)` and\n",
    "`operational_semantics.text (2017:01:20-02:05) (Q5.A2.9)`:\n",
    "\n",
    "<b>Desired Theorem:</b> `I : A \\a,a',f,x. a(f(a' x))`, where\n",
    "\n",
    "    copy := \\x,y. x y y.\n",
    "    join := \\x,y,z. x(y|z).\n",
    "    postconj := (\\r,s. <B r, B s>).\n",
    "    preconj := (\\r,s. <CB s, CB r>).\n",
    "    compose := (\\r,s,r',s'. <r o r', s' o s>).\n",
    "    A = A | <I, I> | <copy, join> | <div, BOT> | <BOT, TOP> | <C, C>\n",
    "          | A preconj | A postconj | A (A compose)."
   ]
  },
  {
   "cell_type": "code",
   "execution_count": 1,
   "metadata": {
    "collapsed": false
   },
   "outputs": [],
   "source": [
    "from pomagma.reducer.graphs import TOP, BOT, NVAR, graph_beta_step\n",
    "from pomagma.reducer.graphred import I, B, C, abstract, as_graph"
   ]
  },
  {
   "cell_type": "code",
   "execution_count": 2,
   "metadata": {
    "collapsed": false
   },
   "outputs": [
    {
     "name": "stdout",
     "output_type": "stream",
     "text": [
      "0 = ABS(1)\n",
      "1 = ABS(2)\n",
      "2 = ABS(3)\n",
      "3 = APP(4,7)\n",
      "4 = APP(5,6)\n",
      "5 = VAR(2)\n",
      "6 = VAR(0)\n",
      "7 = VAR(1)\n"
     ]
    }
   ],
   "source": [
    "pair = as_graph(lambda x, y, f: f(x, y))\n",
    "print(pair.pretty())"
   ]
  },
  {
   "cell_type": "code",
   "execution_count": 3,
   "metadata": {
    "collapsed": false
   },
   "outputs": [
    {
     "name": "stdout",
     "output_type": "stream",
     "text": [
      "0 = ABS(1)\n",
      "1 = ABS(2)\n",
      "2 = APP(3,5)\n",
      "3 = APP(4,5)\n",
      "4 = VAR(0)\n",
      "5 = VAR(1)\n"
     ]
    }
   ],
   "source": [
    "copy = as_graph(lambda x, y: x(y, y))\n",
    "print(copy.pretty())"
   ]
  },
  {
   "cell_type": "code",
   "execution_count": 4,
   "metadata": {
    "collapsed": false
   },
   "outputs": [
    {
     "name": "stdout",
     "output_type": "stream",
     "text": [
      "0 = ABS(1)\n",
      "1 = ABS(2)\n",
      "2 = ABS(3)\n",
      "3 = APP(4,5)\n",
      "4 = VAR(0)\n",
      "5 = JOIN([6,7])\n",
      "6 = VAR(1)\n",
      "7 = VAR(2)\n"
     ]
    }
   ],
   "source": [
    "join = as_graph(lambda x, y, z: x(y | z))\n",
    "print(join.pretty())"
   ]
  },
  {
   "cell_type": "code",
   "execution_count": 5,
   "metadata": {
    "collapsed": false
   },
   "outputs": [
    {
     "name": "stdout",
     "output_type": "stream",
     "text": [
      "TODO \n"
     ]
    }
   ],
   "source": [
    "try:\n",
    "    postconj = as_graph(lambda r, s: pair(B(r), B(s)))\n",
    "    print(postconj.pretty())\n",
    "except NotImplementedError as e:\n",
    "    print(e)"
   ]
  },
  {
   "cell_type": "code",
   "execution_count": null,
   "metadata": {
    "collapsed": true
   },
   "outputs": [],
   "source": []
  }
 ],
 "metadata": {
  "kernelspec": {
   "display_name": "Python 2",
   "language": "python",
   "name": "python2"
  },
  "language_info": {
   "codemirror_mode": {
    "name": "ipython",
    "version": 2
   },
   "file_extension": ".py",
   "mimetype": "text/x-python",
   "name": "python",
   "nbconvert_exporter": "python",
   "pygments_lexer": "ipython2",
   "version": "2.7.10"
  }
 },
 "nbformat": 4,
 "nbformat_minor": 2
}
