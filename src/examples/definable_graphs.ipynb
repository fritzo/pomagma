{
 "cells": [
  {
   "cell_type": "markdown",
   "metadata": {},
   "source": [
    "# Definable types and rational term graphs\n",
    "\n",
    "Our goal is to make `pomagma.reducer` smart enough to prove that `I:UNIT`, as in\n",
    "`definable_types.text (2016:08:23-25) (Q2)` and\n",
    "`operational_semantics.text (2017:01:20-02:05) (Q5.A2.9)`:\n",
    "\n",
    "<b>Desired Theorem:</b> `I : A \\a,a',f,x. a(f(a' x))`, where\n",
    "\n",
    "    copy := \\x,y. x y y.\n",
    "    join := \\x,y,z. x(y|z).\n",
    "    postconj := (\\r,s. <B r, B s>).\n",
    "    preconj := (\\r,s. <CB s, CB r>).\n",
    "    compose := (\\r,s,r',s'. <r o r', s' o s>).\n",
    "    A = A | <I, I> | <copy, join> | <div, BOT> | <BOT, TOP> | <C, C>\n",
    "          | A preconj | A postconj | A (A compose)."
   ]
  },
  {
   "cell_type": "code",
   "execution_count": 6,
   "metadata": {
    "collapsed": false
   },
   "outputs": [],
   "source": [
    "from pomagma.reducer.graphs import B, CB, as_graph"
   ]
  },
  {
   "cell_type": "code",
   "execution_count": 7,
   "metadata": {
    "collapsed": false
   },
   "outputs": [
    {
     "name": "stdout",
     "output_type": "stream",
     "text": [
      "0 = ABS(1)\n",
      "1 = ABS(2)\n",
      "2 = ABS(3)\n",
      "3 = APP(4,7)\n",
      "4 = APP(5,6)\n",
      "5 = VAR(2)\n",
      "6 = VAR(0)\n",
      "7 = VAR(1)\n"
     ]
    }
   ],
   "source": [
    "pair = as_graph(lambda x, y, f: f(x, y))\n",
    "print(pair.pretty())"
   ]
  },
  {
   "cell_type": "code",
   "execution_count": 8,
   "metadata": {
    "collapsed": false
   },
   "outputs": [
    {
     "name": "stdout",
     "output_type": "stream",
     "text": [
      "0 = ABS(1)\n",
      "1 = ABS(2)\n",
      "2 = APP(3,5)\n",
      "3 = APP(4,5)\n",
      "4 = VAR(0)\n",
      "5 = VAR(1)\n"
     ]
    }
   ],
   "source": [
    "copy = as_graph(lambda x, y: x(y, y))\n",
    "print(copy.pretty())"
   ]
  },
  {
   "cell_type": "code",
   "execution_count": 9,
   "metadata": {
    "collapsed": false
   },
   "outputs": [
    {
     "name": "stdout",
     "output_type": "stream",
     "text": [
      "0 = ABS(1)\n",
      "1 = ABS(2)\n",
      "2 = ABS(3)\n",
      "3 = APP(4,5)\n",
      "4 = VAR(0)\n",
      "5 = JOIN([6,7])\n",
      "6 = VAR(1)\n",
      "7 = VAR(2)\n"
     ]
    }
   ],
   "source": [
    "join = as_graph(lambda x, y, z: x(y | z))\n",
    "print(join.pretty())"
   ]
  },
  {
   "cell_type": "code",
   "execution_count": 10,
   "metadata": {
    "collapsed": false
   },
   "outputs": [
    {
     "name": "stdout",
     "output_type": "stream",
     "text": [
      "0 = ABS(1)\n",
      "1 = ABS(2)\n",
      "2 = APP(3,22)\n",
      "3 = APP(4,12)\n",
      "4 = ABS(5)\n",
      "5 = ABS(6)\n",
      "6 = ABS(7)\n",
      "7 = APP(8,11)\n",
      "8 = APP(9,10)\n",
      "9 = VAR(6)\n",
      "10 = VAR(4)\n",
      "11 = VAR(5)\n",
      "12 = APP(13,21)\n",
      "13 = ABS(14)\n",
      "14 = ABS(15)\n",
      "15 = ABS(16)\n",
      "16 = APP(17,18)\n",
      "17 = VAR(13)\n",
      "18 = APP(19,20)\n",
      "19 = VAR(14)\n",
      "20 = VAR(15)\n",
      "21 = VAR(0)\n",
      "22 = APP(23,31)\n",
      "23 = ABS(24)\n",
      "24 = ABS(25)\n",
      "25 = ABS(26)\n",
      "26 = APP(27,28)\n",
      "27 = VAR(23)\n",
      "28 = APP(29,30)\n",
      "29 = VAR(24)\n",
      "30 = VAR(25)\n",
      "31 = VAR(1)\n"
     ]
    }
   ],
   "source": [
    "postconj = as_graph(lambda r, s: pair(B(r), B(s)))\n",
    "print(postconj.pretty())"
   ]
  },
  {
   "cell_type": "code",
   "execution_count": 11,
   "metadata": {
    "collapsed": false
   },
   "outputs": [
    {
     "name": "stdout",
     "output_type": "stream",
     "text": [
      "0 = ABS(1)\n",
      "1 = ABS(2)\n",
      "2 = APP(3,22)\n",
      "3 = APP(4,12)\n",
      "4 = ABS(5)\n",
      "5 = ABS(6)\n",
      "6 = ABS(7)\n",
      "7 = APP(8,11)\n",
      "8 = APP(9,10)\n",
      "9 = VAR(6)\n",
      "10 = VAR(4)\n",
      "11 = VAR(5)\n",
      "12 = APP(13,21)\n",
      "13 = ABS(14)\n",
      "14 = ABS(15)\n",
      "15 = ABS(16)\n",
      "16 = APP(17,18)\n",
      "17 = VAR(13)\n",
      "18 = APP(19,20)\n",
      "19 = VAR(14)\n",
      "20 = VAR(15)\n",
      "21 = VAR(0)\n",
      "22 = APP(23,31)\n",
      "23 = ABS(24)\n",
      "24 = ABS(25)\n",
      "25 = ABS(26)\n",
      "26 = APP(27,28)\n",
      "27 = VAR(23)\n",
      "28 = APP(29,30)\n",
      "29 = VAR(24)\n",
      "30 = VAR(25)\n",
      "31 = VAR(1)\n"
     ]
    }
   ],
   "source": [
    "preconj = as_graph(lambda r, s: pair(CB(r), CB(s)))\n",
    "print(postconj.pretty())"
   ]
  },
  {
   "cell_type": "code",
   "execution_count": 13,
   "metadata": {
    "collapsed": false
   },
   "outputs": [
    {
     "name": "stdout",
     "output_type": "stream",
     "text": [
      "0 = ABS(1)\n",
      "1 = ABS(2)\n",
      "2 = ABS(3)\n",
      "3 = ABS(4)\n",
      "4 = APP(5,26)\n",
      "5 = APP(6,14)\n",
      "6 = ABS(7)\n",
      "7 = ABS(8)\n",
      "8 = ABS(9)\n",
      "9 = APP(10,13)\n",
      "10 = APP(11,12)\n",
      "11 = VAR(8)\n",
      "12 = VAR(6)\n",
      "13 = VAR(7)\n",
      "14 = APP(15,25)\n",
      "15 = APP(16,24)\n",
      "16 = ABS(17)\n",
      "17 = ABS(18)\n",
      "18 = ABS(19)\n",
      "19 = APP(20,21)\n",
      "20 = VAR(16)\n",
      "21 = APP(22,23)\n",
      "22 = VAR(17)\n",
      "23 = VAR(18)\n",
      "24 = VAR(0)\n",
      "25 = VAR(2)\n",
      "26 = APP(27,37)\n",
      "27 = APP(28,36)\n",
      "28 = ABS(29)\n",
      "29 = ABS(30)\n",
      "30 = ABS(31)\n",
      "31 = APP(32,33)\n",
      "32 = VAR(28)\n",
      "33 = APP(34,35)\n",
      "34 = VAR(29)\n",
      "35 = VAR(30)\n",
      "36 = VAR(3)\n",
      "37 = VAR(1)\n"
     ]
    }
   ],
   "source": [
    "compose = as_graph(lambda r1, s1, r2, s2: pair(B(r1, r2), B(s2, s1)))\n",
    "print(compose.pretty())"
   ]
  },
  {
   "cell_type": "code",
   "execution_count": null,
   "metadata": {
    "collapsed": true
   },
   "outputs": [],
   "source": []
  }
 ],
 "metadata": {
  "kernelspec": {
   "display_name": "Python 2",
   "language": "python",
   "name": "python2"
  },
  "language_info": {
   "codemirror_mode": {
    "name": "ipython",
    "version": 2
   },
   "file_extension": ".py",
   "mimetype": "text/x-python",
   "name": "python",
   "nbconvert_exporter": "python",
   "pygments_lexer": "ipython2",
   "version": "2.7.6"
  }
 },
 "nbformat": 4,
 "nbformat_minor": 2
}
