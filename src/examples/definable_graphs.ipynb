{
 "cells": [
  {
   "cell_type": "markdown",
   "metadata": {},
   "source": [
    "# Definable types and rational term graphs\n",
    "\n",
    "Our goal is to make `pomagma.reducer` smart enough to prove that `I:UNIT`, as in\n",
    "`definable_types.text (2016:08:23-25) (Q2)` and\n",
    "`operational_semantics.text (2017:01:20-02:05) (Q5.A2.9)`:\n",
    "\n",
    "<b>Desired Theorem:</b> `I : A \\a,a',f,x. a(f(a' x))`, where\n",
    "\n",
    "    copy := \\x,y. x y y.\n",
    "    join := \\x,y,z. x(y|z).\n",
    "    postconj := (\\r,s. <B r, B s>).\n",
    "    preconj := (\\r,s. <CB s, CB r>).\n",
    "    compose := (\\r,s,r',s'. <r o r', s' o s>).\n",
    "    A = A | <I, I> | <copy, join> | <div, BOT> | <BOT, TOP> | <C, C>\n",
    "          | A preconj | A postconj | A (A compose)."
   ]
  },
  {
   "cell_type": "code",
   "execution_count": 1,
   "metadata": {
    "collapsed": false
   },
   "outputs": [],
   "source": [
    "from pomagma.reducer.graphs import TOP, BOT, NVAR, graph_beta_step\n",
    "from pomagma.reducer.graphred import I, B, C, abstract"
   ]
  },
  {
   "cell_type": "code",
   "execution_count": 2,
   "metadata": {
    "collapsed": true
   },
   "outputs": [],
   "source": [
    "f = NVAR('f')\n",
    "x = NVAR('x')\n",
    "y = NVAR('y')\n",
    "z = NVAR('z')"
   ]
  },
  {
   "cell_type": "code",
   "execution_count": 3,
   "metadata": {
    "collapsed": false
   },
   "outputs": [
    {
     "name": "stdout",
     "output_type": "stream",
     "text": [
      "0 = ABS(1)\n",
      "1 = ABS(2)\n",
      "2 = ABS(3)\n",
      "3 = APP(4,7)\n",
      "4 = APP(5,6)\n",
      "5 = VAR(2)\n",
      "6 = VAR(0)\n",
      "7 = VAR(1)\n"
     ]
    }
   ],
   "source": [
    "pair = abstract(x, abstract(y, abstract(f, f(x, y))))\n",
    "print(pair.pretty())"
   ]
  },
  {
   "cell_type": "code",
   "execution_count": null,
   "metadata": {
    "collapsed": true
   },
   "outputs": [],
   "source": []
  }
 ],
 "metadata": {
  "kernelspec": {
   "display_name": "Python 2",
   "language": "python",
   "name": "python2"
  },
  "language_info": {
   "codemirror_mode": {
    "name": "ipython",
    "version": 2
   },
   "file_extension": ".py",
   "mimetype": "text/x-python",
   "name": "python",
   "nbconvert_exporter": "python",
   "pygments_lexer": "ipython2",
   "version": "2.7.10"
  }
 },
 "nbformat": 4,
 "nbformat_minor": 2
}
